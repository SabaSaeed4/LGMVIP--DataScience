{
 "cells": [
  {
   "cell_type": "markdown",
   "id": "329bad87",
   "metadata": {},
   "source": [
    "## LGM VIP Data Science\n",
    "LGM VIP Data Science\n",
    "\n",
    "July 2022\n",
    "\n",
    "Beginnere Level Task 02 - Stock Market Prediction And Forecasting Using Stacked LSTM\n",
    "\n",
    "Name - Saba Saeed"
   ]
  },
  {
   "cell_type": "code",
   "execution_count": 1,
   "id": "e269e358",
   "metadata": {},
   "outputs": [],
   "source": [
    "## Importing Libraries\n",
    "import numpy as np\n",
    "import pandas as pd\n",
    "import matplotlib.pyplot as plt\n",
    "### Create the Stacked LSTM model\n",
    "from tensorflow.keras.models import Sequential\n",
    "from tensorflow.keras.layers import Dense\n",
    "from tensorflow.keras.layers import LSTM"
   ]
  },
  {
   "cell_type": "code",
   "execution_count": 2,
   "id": "2fee1ffb",
   "metadata": {},
   "outputs": [],
   "source": [
    "df = pd.read_csv('data.csv')"
   ]
  },
  {
   "cell_type": "code",
   "execution_count": 3,
   "id": "5a5cb56c",
   "metadata": {},
   "outputs": [
    {
     "data": {
      "text/html": [
       "<div>\n",
       "<style scoped>\n",
       "    .dataframe tbody tr th:only-of-type {\n",
       "        vertical-align: middle;\n",
       "    }\n",
       "\n",
       "    .dataframe tbody tr th {\n",
       "        vertical-align: top;\n",
       "    }\n",
       "\n",
       "    .dataframe thead th {\n",
       "        text-align: right;\n",
       "    }\n",
       "</style>\n",
       "<table border=\"1\" class=\"dataframe\">\n",
       "  <thead>\n",
       "    <tr style=\"text-align: right;\">\n",
       "      <th></th>\n",
       "      <th>Date</th>\n",
       "      <th>Open</th>\n",
       "      <th>High</th>\n",
       "      <th>Low</th>\n",
       "      <th>Last</th>\n",
       "      <th>Close</th>\n",
       "      <th>Total Trade Quantity</th>\n",
       "      <th>Turnover (Lacs)</th>\n",
       "    </tr>\n",
       "  </thead>\n",
       "  <tbody>\n",
       "    <tr>\n",
       "      <th>0</th>\n",
       "      <td>2018-09-28</td>\n",
       "      <td>234.05</td>\n",
       "      <td>235.95</td>\n",
       "      <td>230.20</td>\n",
       "      <td>233.50</td>\n",
       "      <td>233.75</td>\n",
       "      <td>3069914</td>\n",
       "      <td>7162.35</td>\n",
       "    </tr>\n",
       "    <tr>\n",
       "      <th>1</th>\n",
       "      <td>2018-09-27</td>\n",
       "      <td>234.55</td>\n",
       "      <td>236.80</td>\n",
       "      <td>231.10</td>\n",
       "      <td>233.80</td>\n",
       "      <td>233.25</td>\n",
       "      <td>5082859</td>\n",
       "      <td>11859.95</td>\n",
       "    </tr>\n",
       "    <tr>\n",
       "      <th>2</th>\n",
       "      <td>2018-09-26</td>\n",
       "      <td>240.00</td>\n",
       "      <td>240.00</td>\n",
       "      <td>232.50</td>\n",
       "      <td>235.00</td>\n",
       "      <td>234.25</td>\n",
       "      <td>2240909</td>\n",
       "      <td>5248.60</td>\n",
       "    </tr>\n",
       "    <tr>\n",
       "      <th>3</th>\n",
       "      <td>2018-09-25</td>\n",
       "      <td>233.30</td>\n",
       "      <td>236.75</td>\n",
       "      <td>232.00</td>\n",
       "      <td>236.25</td>\n",
       "      <td>236.10</td>\n",
       "      <td>2349368</td>\n",
       "      <td>5503.90</td>\n",
       "    </tr>\n",
       "    <tr>\n",
       "      <th>4</th>\n",
       "      <td>2018-09-24</td>\n",
       "      <td>233.55</td>\n",
       "      <td>239.20</td>\n",
       "      <td>230.75</td>\n",
       "      <td>234.00</td>\n",
       "      <td>233.30</td>\n",
       "      <td>3423509</td>\n",
       "      <td>7999.55</td>\n",
       "    </tr>\n",
       "  </tbody>\n",
       "</table>\n",
       "</div>"
      ],
      "text/plain": [
       "         Date    Open    High     Low    Last   Close  Total Trade Quantity  \\\n",
       "0  2018-09-28  234.05  235.95  230.20  233.50  233.75               3069914   \n",
       "1  2018-09-27  234.55  236.80  231.10  233.80  233.25               5082859   \n",
       "2  2018-09-26  240.00  240.00  232.50  235.00  234.25               2240909   \n",
       "3  2018-09-25  233.30  236.75  232.00  236.25  236.10               2349368   \n",
       "4  2018-09-24  233.55  239.20  230.75  234.00  233.30               3423509   \n",
       "\n",
       "   Turnover (Lacs)  \n",
       "0          7162.35  \n",
       "1         11859.95  \n",
       "2          5248.60  \n",
       "3          5503.90  \n",
       "4          7999.55  "
      ]
     },
     "execution_count": 3,
     "metadata": {},
     "output_type": "execute_result"
    }
   ],
   "source": [
    "df.head()"
   ]
  },
  {
   "cell_type": "code",
   "execution_count": 4,
   "id": "17147acb",
   "metadata": {},
   "outputs": [
    {
     "data": {
      "text/html": [
       "<div>\n",
       "<style scoped>\n",
       "    .dataframe tbody tr th:only-of-type {\n",
       "        vertical-align: middle;\n",
       "    }\n",
       "\n",
       "    .dataframe tbody tr th {\n",
       "        vertical-align: top;\n",
       "    }\n",
       "\n",
       "    .dataframe thead th {\n",
       "        text-align: right;\n",
       "    }\n",
       "</style>\n",
       "<table border=\"1\" class=\"dataframe\">\n",
       "  <thead>\n",
       "    <tr style=\"text-align: right;\">\n",
       "      <th></th>\n",
       "      <th>Date</th>\n",
       "      <th>Open</th>\n",
       "      <th>High</th>\n",
       "      <th>Low</th>\n",
       "      <th>Last</th>\n",
       "      <th>Close</th>\n",
       "      <th>Total Trade Quantity</th>\n",
       "      <th>Turnover (Lacs)</th>\n",
       "    </tr>\n",
       "  </thead>\n",
       "  <tbody>\n",
       "    <tr>\n",
       "      <th>2030</th>\n",
       "      <td>2010-07-27</td>\n",
       "      <td>117.6</td>\n",
       "      <td>119.50</td>\n",
       "      <td>112.00</td>\n",
       "      <td>118.80</td>\n",
       "      <td>118.65</td>\n",
       "      <td>586100</td>\n",
       "      <td>694.98</td>\n",
       "    </tr>\n",
       "    <tr>\n",
       "      <th>2031</th>\n",
       "      <td>2010-07-26</td>\n",
       "      <td>120.1</td>\n",
       "      <td>121.00</td>\n",
       "      <td>117.10</td>\n",
       "      <td>117.10</td>\n",
       "      <td>117.60</td>\n",
       "      <td>658440</td>\n",
       "      <td>780.01</td>\n",
       "    </tr>\n",
       "    <tr>\n",
       "      <th>2032</th>\n",
       "      <td>2010-07-23</td>\n",
       "      <td>121.8</td>\n",
       "      <td>121.95</td>\n",
       "      <td>120.25</td>\n",
       "      <td>120.35</td>\n",
       "      <td>120.65</td>\n",
       "      <td>281312</td>\n",
       "      <td>340.31</td>\n",
       "    </tr>\n",
       "    <tr>\n",
       "      <th>2033</th>\n",
       "      <td>2010-07-22</td>\n",
       "      <td>120.3</td>\n",
       "      <td>122.00</td>\n",
       "      <td>120.25</td>\n",
       "      <td>120.75</td>\n",
       "      <td>120.90</td>\n",
       "      <td>293312</td>\n",
       "      <td>355.17</td>\n",
       "    </tr>\n",
       "    <tr>\n",
       "      <th>2034</th>\n",
       "      <td>2010-07-21</td>\n",
       "      <td>122.1</td>\n",
       "      <td>123.00</td>\n",
       "      <td>121.05</td>\n",
       "      <td>121.10</td>\n",
       "      <td>121.55</td>\n",
       "      <td>658666</td>\n",
       "      <td>803.56</td>\n",
       "    </tr>\n",
       "  </tbody>\n",
       "</table>\n",
       "</div>"
      ],
      "text/plain": [
       "            Date   Open    High     Low    Last   Close  Total Trade Quantity  \\\n",
       "2030  2010-07-27  117.6  119.50  112.00  118.80  118.65                586100   \n",
       "2031  2010-07-26  120.1  121.00  117.10  117.10  117.60                658440   \n",
       "2032  2010-07-23  121.8  121.95  120.25  120.35  120.65                281312   \n",
       "2033  2010-07-22  120.3  122.00  120.25  120.75  120.90                293312   \n",
       "2034  2010-07-21  122.1  123.00  121.05  121.10  121.55                658666   \n",
       "\n",
       "      Turnover (Lacs)  \n",
       "2030           694.98  \n",
       "2031           780.01  \n",
       "2032           340.31  \n",
       "2033           355.17  \n",
       "2034           803.56  "
      ]
     },
     "execution_count": 4,
     "metadata": {},
     "output_type": "execute_result"
    }
   ],
   "source": [
    "df.tail()"
   ]
  },
  {
   "cell_type": "code",
   "execution_count": 5,
   "id": "d388ce1a",
   "metadata": {},
   "outputs": [
    {
     "name": "stdout",
     "output_type": "stream",
     "text": [
      "<class 'pandas.core.frame.DataFrame'>\n",
      "RangeIndex: 2035 entries, 0 to 2034\n",
      "Data columns (total 8 columns):\n",
      " #   Column                Non-Null Count  Dtype  \n",
      "---  ------                --------------  -----  \n",
      " 0   Date                  2035 non-null   object \n",
      " 1   Open                  2035 non-null   float64\n",
      " 2   High                  2035 non-null   float64\n",
      " 3   Low                   2035 non-null   float64\n",
      " 4   Last                  2035 non-null   float64\n",
      " 5   Close                 2035 non-null   float64\n",
      " 6   Total Trade Quantity  2035 non-null   int64  \n",
      " 7   Turnover (Lacs)       2035 non-null   float64\n",
      "dtypes: float64(6), int64(1), object(1)\n",
      "memory usage: 127.3+ KB\n"
     ]
    }
   ],
   "source": [
    "df.info()"
   ]
  },
  {
   "cell_type": "code",
   "execution_count": 6,
   "id": "d6ab1876",
   "metadata": {},
   "outputs": [
    {
     "data": {
      "text/html": [
       "<div>\n",
       "<style scoped>\n",
       "    .dataframe tbody tr th:only-of-type {\n",
       "        vertical-align: middle;\n",
       "    }\n",
       "\n",
       "    .dataframe tbody tr th {\n",
       "        vertical-align: top;\n",
       "    }\n",
       "\n",
       "    .dataframe thead th {\n",
       "        text-align: right;\n",
       "    }\n",
       "</style>\n",
       "<table border=\"1\" class=\"dataframe\">\n",
       "  <thead>\n",
       "    <tr style=\"text-align: right;\">\n",
       "      <th></th>\n",
       "      <th>Open</th>\n",
       "      <th>High</th>\n",
       "      <th>Low</th>\n",
       "      <th>Last</th>\n",
       "      <th>Close</th>\n",
       "      <th>Total Trade Quantity</th>\n",
       "      <th>Turnover (Lacs)</th>\n",
       "    </tr>\n",
       "  </thead>\n",
       "  <tbody>\n",
       "    <tr>\n",
       "      <th>count</th>\n",
       "      <td>2035.000000</td>\n",
       "      <td>2035.000000</td>\n",
       "      <td>2035.000000</td>\n",
       "      <td>2035.000000</td>\n",
       "      <td>2035.00000</td>\n",
       "      <td>2.035000e+03</td>\n",
       "      <td>2035.000000</td>\n",
       "    </tr>\n",
       "    <tr>\n",
       "      <th>mean</th>\n",
       "      <td>149.713735</td>\n",
       "      <td>151.992826</td>\n",
       "      <td>147.293931</td>\n",
       "      <td>149.474251</td>\n",
       "      <td>149.45027</td>\n",
       "      <td>2.335681e+06</td>\n",
       "      <td>3899.980565</td>\n",
       "    </tr>\n",
       "    <tr>\n",
       "      <th>std</th>\n",
       "      <td>48.664509</td>\n",
       "      <td>49.413109</td>\n",
       "      <td>47.931958</td>\n",
       "      <td>48.732570</td>\n",
       "      <td>48.71204</td>\n",
       "      <td>2.091778e+06</td>\n",
       "      <td>4570.767877</td>\n",
       "    </tr>\n",
       "    <tr>\n",
       "      <th>min</th>\n",
       "      <td>81.100000</td>\n",
       "      <td>82.800000</td>\n",
       "      <td>80.000000</td>\n",
       "      <td>81.000000</td>\n",
       "      <td>80.95000</td>\n",
       "      <td>3.961000e+04</td>\n",
       "      <td>37.040000</td>\n",
       "    </tr>\n",
       "    <tr>\n",
       "      <th>25%</th>\n",
       "      <td>120.025000</td>\n",
       "      <td>122.100000</td>\n",
       "      <td>118.300000</td>\n",
       "      <td>120.075000</td>\n",
       "      <td>120.05000</td>\n",
       "      <td>1.146444e+06</td>\n",
       "      <td>1427.460000</td>\n",
       "    </tr>\n",
       "    <tr>\n",
       "      <th>50%</th>\n",
       "      <td>141.500000</td>\n",
       "      <td>143.400000</td>\n",
       "      <td>139.600000</td>\n",
       "      <td>141.100000</td>\n",
       "      <td>141.25000</td>\n",
       "      <td>1.783456e+06</td>\n",
       "      <td>2512.030000</td>\n",
       "    </tr>\n",
       "    <tr>\n",
       "      <th>75%</th>\n",
       "      <td>157.175000</td>\n",
       "      <td>159.400000</td>\n",
       "      <td>155.150000</td>\n",
       "      <td>156.925000</td>\n",
       "      <td>156.90000</td>\n",
       "      <td>2.813594e+06</td>\n",
       "      <td>4539.015000</td>\n",
       "    </tr>\n",
       "    <tr>\n",
       "      <th>max</th>\n",
       "      <td>327.700000</td>\n",
       "      <td>328.750000</td>\n",
       "      <td>321.650000</td>\n",
       "      <td>325.950000</td>\n",
       "      <td>325.75000</td>\n",
       "      <td>2.919102e+07</td>\n",
       "      <td>55755.080000</td>\n",
       "    </tr>\n",
       "  </tbody>\n",
       "</table>\n",
       "</div>"
      ],
      "text/plain": [
       "              Open         High          Low         Last       Close  \\\n",
       "count  2035.000000  2035.000000  2035.000000  2035.000000  2035.00000   \n",
       "mean    149.713735   151.992826   147.293931   149.474251   149.45027   \n",
       "std      48.664509    49.413109    47.931958    48.732570    48.71204   \n",
       "min      81.100000    82.800000    80.000000    81.000000    80.95000   \n",
       "25%     120.025000   122.100000   118.300000   120.075000   120.05000   \n",
       "50%     141.500000   143.400000   139.600000   141.100000   141.25000   \n",
       "75%     157.175000   159.400000   155.150000   156.925000   156.90000   \n",
       "max     327.700000   328.750000   321.650000   325.950000   325.75000   \n",
       "\n",
       "       Total Trade Quantity  Turnover (Lacs)  \n",
       "count          2.035000e+03      2035.000000  \n",
       "mean           2.335681e+06      3899.980565  \n",
       "std            2.091778e+06      4570.767877  \n",
       "min            3.961000e+04        37.040000  \n",
       "25%            1.146444e+06      1427.460000  \n",
       "50%            1.783456e+06      2512.030000  \n",
       "75%            2.813594e+06      4539.015000  \n",
       "max            2.919102e+07     55755.080000  "
      ]
     },
     "execution_count": 6,
     "metadata": {},
     "output_type": "execute_result"
    }
   ],
   "source": [
    "df.describe()"
   ]
  },
  {
   "cell_type": "code",
   "execution_count": 7,
   "id": "982542d5",
   "metadata": {},
   "outputs": [
    {
     "data": {
      "text/plain": [
       "Date                    0\n",
       "Open                    0\n",
       "High                    0\n",
       "Low                     0\n",
       "Last                    0\n",
       "Close                   0\n",
       "Total Trade Quantity    0\n",
       "Turnover (Lacs)         0\n",
       "dtype: int64"
      ]
     },
     "execution_count": 7,
     "metadata": {},
     "output_type": "execute_result"
    }
   ],
   "source": [
    "df.isnull().sum()"
   ]
  },
  {
   "cell_type": "code",
   "execution_count": 8,
   "id": "9ecbb7c2",
   "metadata": {},
   "outputs": [],
   "source": [
    "df1 = df.reset_index()['Close']"
   ]
  },
  {
   "cell_type": "code",
   "execution_count": 9,
   "id": "2c21ab26",
   "metadata": {},
   "outputs": [
    {
     "data": {
      "text/plain": [
       "(2035,)"
      ]
     },
     "execution_count": 9,
     "metadata": {},
     "output_type": "execute_result"
    }
   ],
   "source": [
    "df1.shape"
   ]
  },
  {
   "cell_type": "code",
   "execution_count": 10,
   "id": "66139fd5",
   "metadata": {},
   "outputs": [
    {
     "data": {
      "image/png": "[encoded data removed]",
      "text/plain": [
       "<Figure size 432x288 with 1 Axes>"
      ]
     },
     "metadata": {
      "needs_background": "light"
     },
     "output_type": "display_data"
    }
   ],
   "source": [
    "plt.plot(df1)\n",
    "plt.title('Stacked Index View')\n",
    "plt.show()"
   ]
  },
  {
   "cell_type": "code",
   "execution_count": 11,
   "id": "f94fc02b",
   "metadata": {},
   "outputs": [],
   "source": [
    "## Feature Scaling\n",
    "from sklearn.preprocessing import MinMaxScaler\n",
    "\n",
    "scaler = MinMaxScaler(feature_range=(0,1))\n",
    "df1 = scaler.fit_transform(np.array(df1).reshape(-1,1))"
   ]
  },
  {
   "cell_type": "code",
   "execution_count": 12,
   "id": "4bdeb19c",
   "metadata": {},
   "outputs": [
    {
     "data": {
      "text/plain": [
       "array([[0.62418301],\n",
       "       [0.62214052],\n",
       "       [0.62622549],\n",
       "       ...,\n",
       "       [0.1621732 ],\n",
       "       [0.16319444],\n",
       "       [0.16584967]])"
      ]
     },
     "execution_count": 12,
     "metadata": {},
     "output_type": "execute_result"
    }
   ],
   "source": [
    "df1"
   ]
  },
  {
   "cell_type": "code",
   "execution_count": 13,
   "id": "129b76fe",
   "metadata": {},
   "outputs": [
    {
     "data": {
      "text/plain": [
       "(2035, 1)"
      ]
     },
     "execution_count": 13,
     "metadata": {},
     "output_type": "execute_result"
    }
   ],
   "source": [
    "df1.shape"
   ]
  },
  {
   "cell_type": "code",
   "execution_count": 14,
   "id": "4eb61294",
   "metadata": {},
   "outputs": [],
   "source": [
    "#splitting dataset into train and test split\n",
    "\n",
    "training_size = int(len(df1)*0.65)\n",
    "test_size = len(df1)- training_size\n",
    "train_data, test_data = df1[0:training_size,:], df1[training_size:len(df1),:1]"
   ]
  },
  {
   "cell_type": "code",
   "execution_count": 15,
   "id": "6ce02f24",
   "metadata": {},
   "outputs": [
    {
     "data": {
      "text/plain": [
       "(1322, 713)"
      ]
     },
     "execution_count": 15,
     "metadata": {},
     "output_type": "execute_result"
    }
   ],
   "source": [
    "training_size, test_size"
   ]
  },
  {
   "cell_type": "code",
   "execution_count": 16,
   "id": "932a1cde",
   "metadata": {},
   "outputs": [],
   "source": [
    "# convert an array of values into a dataset matrix\n",
    "def create_dataset(dataset, time_step=1):\n",
    "    dataX, dataY = [], []\n",
    "    for i in range(len(dataset)-time_step-1):\n",
    "        a = dataset[i:(i+time_step), 0]   ###i=0, 0,1,2,3-----99   100 \n",
    "        dataX.append(a)\n",
    "        dataY.append(dataset[i + time_step, 0])\n",
    "    return np.array(dataX), np.array(dataY)"
   ]
  },
  {
   "cell_type": "code",
   "execution_count": 17,
   "id": "e14cdcfe",
   "metadata": {},
   "outputs": [],
   "source": [
    "time_step = 100\n",
    "X_train, y_train = create_dataset(train_data, time_step)\n",
    "X_test, y_test = create_dataset(test_data, time_step)"
   ]
  },
  {
   "cell_type": "code",
   "execution_count": 18,
   "id": "39f87e5b",
   "metadata": {},
   "outputs": [
    {
     "name": "stdout",
     "output_type": "stream",
     "text": [
      "[[0.62418301 0.62214052 0.62622549 ... 0.83455882 0.86213235 0.85273693]\n",
      " [0.62214052 0.62622549 0.63378268 ... 0.86213235 0.85273693 0.87111928]\n",
      " [0.62622549 0.63378268 0.62234477 ... 0.85273693 0.87111928 0.84497549]\n",
      " ...\n",
      " [0.34517974 0.31781046 0.33047386 ... 0.2816585  0.27001634 0.26531863]\n",
      " [0.31781046 0.33047386 0.32128268 ... 0.27001634 0.26531863 0.27389706]\n",
      " [0.33047386 0.32128268 0.34007353 ... 0.26531863 0.27389706 0.25347222]]\n"
     ]
    }
   ],
   "source": [
    "print(X_train)"
   ]
  },
  {
   "cell_type": "code",
   "execution_count": 19,
   "id": "788a48df",
   "metadata": {},
   "outputs": [
    {
     "data": {
      "text/plain": [
       "((1221, 100), (1221,))"
      ]
     },
     "execution_count": 19,
     "metadata": {},
     "output_type": "execute_result"
    }
   ],
   "source": [
    "X_train.shape, y_train.shape"
   ]
  },
  {
   "cell_type": "code",
   "execution_count": 20,
   "id": "ec567eb6",
   "metadata": {},
   "outputs": [
    {
     "data": {
      "text/plain": [
       "((612, 100), (612,))"
      ]
     },
     "execution_count": 20,
     "metadata": {},
     "output_type": "execute_result"
    }
   ],
   "source": [
    "X_test.shape, y_test.shape"
   ]
  },
  {
   "cell_type": "code",
   "execution_count": 21,
   "id": "8471edb7",
   "metadata": {},
   "outputs": [],
   "source": [
    "X_train = X_train.reshape(X_train.shape[0], X_train.shape[1],1)\n",
    "X_test = X_test.reshape(X_test.shape[0], X_test.shape[1],1)"
   ]
  },
  {
   "cell_type": "code",
   "execution_count": 22,
   "id": "0bf22d63",
   "metadata": {},
   "outputs": [],
   "source": [
    "## Creating Stacked LSTM model\n",
    "\n",
    "model = Sequential()\n",
    "model.add(LSTM(50, return_sequences=True, input_shape=(100,1)))\n",
    "model.add(LSTM(50, return_sequences=True))\n",
    "model.add(LSTM(50))\n",
    "model.add(Dense(1))\n",
    "model.compile(loss='mean_squared_error',optimizer='adam')"
   ]
  },
  {
   "cell_type": "code",
   "execution_count": 23,
   "id": "6ce29c69",
   "metadata": {},
   "outputs": [
    {
     "name": "stdout",
     "output_type": "stream",
     "text": [
      "Model: \"sequential\"\n",
      "_________________________________________________________________\n",
      " Layer (type)                Output Shape              Param #   \n",
      "=================================================================\n",
      " lstm (LSTM)                 (None, 100, 50)           10400     \n",
      "                                                                 \n",
      " lstm_1 (LSTM)               (None, 100, 50)           20200     \n",
      "                                                                 \n",
      " lstm_2 (LSTM)               (None, 50)                20200     \n",
      "                                                                 \n",
      " dense (Dense)               (None, 1)                 51        \n",
      "                                                                 \n",
      "=================================================================\n",
      "Total params: 50,851\n",
      "Trainable params: 50,851\n",
      "Non-trainable params: 0\n",
      "_________________________________________________________________\n"
     ]
    }
   ],
   "source": [
    "model.summary()"
   ]
  },
  {
   "cell_type": "code",
   "execution_count": 24,
   "id": "07a72260",
   "metadata": {},
   "outputs": [
    {
     "name": "stdout",
     "output_type": "stream",
     "text": [
      "Epoch 1/100\n",
      "20/20 [==============================] - 8s 214ms/step - loss: 0.0248 - val_loss: 0.0050\n",
      "Epoch 2/100\n",
      "20/20 [==============================] - 3s 143ms/step - loss: 0.0025 - val_loss: 0.0010\n",
      "Epoch 3/100\n",
      "20/20 [==============================] - 3s 151ms/step - loss: 0.0020 - val_loss: 0.0012\n",
      "Epoch 4/100\n",
      "20/20 [==============================] - 3s 165ms/step - loss: 0.0017 - val_loss: 0.0013\n",
      "Epoch 5/100\n",
      "20/20 [==============================] - 3s 174ms/step - loss: 0.0015 - val_loss: 9.8030e-04\n",
      "Epoch 6/100\n",
      "20/20 [==============================] - 3s 159ms/step - loss: 0.0017 - val_loss: 0.0016\n",
      "Epoch 7/100\n",
      "20/20 [==============================] - 3s 159ms/step - loss: 0.0014 - val_loss: 0.0014\n",
      "Epoch 8/100\n",
      "20/20 [==============================] - 3s 153ms/step - loss: 0.0013 - val_loss: 8.7184e-04\n",
      "Epoch 9/100\n",
      "20/20 [==============================] - 3s 147ms/step - loss: 0.0014 - val_loss: 8.6834e-04\n",
      "Epoch 10/100\n",
      "20/20 [==============================] - 3s 158ms/step - loss: 0.0013 - val_loss: 9.4639e-04\n",
      "Epoch 11/100\n",
      "20/20 [==============================] - 3s 162ms/step - loss: 0.0011 - val_loss: 8.6217e-04\n",
      "Epoch 12/100\n",
      "20/20 [==============================] - 3s 160ms/step - loss: 0.0013 - val_loss: 7.8225e-04\n",
      "Epoch 13/100\n",
      "20/20 [==============================] - 3s 158ms/step - loss: 0.0011 - val_loss: 0.0010\n",
      "Epoch 14/100\n",
      "20/20 [==============================] - 3s 163ms/step - loss: 0.0010 - val_loss: 7.8978e-04\n",
      "Epoch 15/100\n",
      "20/20 [==============================] - 3s 162ms/step - loss: 9.7666e-04 - val_loss: 8.6423e-04\n",
      "Epoch 16/100\n",
      "20/20 [==============================] - 3s 160ms/step - loss: 0.0011 - val_loss: 0.0010\n",
      "Epoch 17/100\n",
      "20/20 [==============================] - 3s 160ms/step - loss: 8.8318e-04 - val_loss: 0.0014\n",
      "Epoch 18/100\n",
      "20/20 [==============================] - 3s 161ms/step - loss: 0.0011 - val_loss: 9.5137e-04\n",
      "Epoch 19/100\n",
      "20/20 [==============================] - 3s 160ms/step - loss: 8.4505e-04 - val_loss: 9.1788e-04\n",
      "Epoch 20/100\n",
      "20/20 [==============================] - 3s 159ms/step - loss: 8.1332e-04 - val_loss: 0.0010\n",
      "Epoch 21/100\n",
      "20/20 [==============================] - 3s 160ms/step - loss: 8.7143e-04 - val_loss: 7.4083e-04\n",
      "Epoch 22/100\n",
      "20/20 [==============================] - 3s 161ms/step - loss: 7.5346e-04 - val_loss: 7.2856e-04\n",
      "Epoch 23/100\n",
      "20/20 [==============================] - 3s 160ms/step - loss: 7.5148e-04 - val_loss: 8.6141e-04\n",
      "Epoch 24/100\n",
      "20/20 [==============================] - 3s 162ms/step - loss: 7.5716e-04 - val_loss: 8.0324e-04\n",
      "Epoch 25/100\n",
      "20/20 [==============================] - 3s 164ms/step - loss: 7.1448e-04 - val_loss: 6.9217e-04\n",
      "Epoch 26/100\n",
      "20/20 [==============================] - 3s 163ms/step - loss: 6.8787e-04 - val_loss: 6.2965e-04\n",
      "Epoch 27/100\n",
      "20/20 [==============================] - 3s 163ms/step - loss: 7.2486e-04 - val_loss: 6.8104e-04\n",
      "Epoch 28/100\n",
      "20/20 [==============================] - 3s 164ms/step - loss: 6.9477e-04 - val_loss: 0.0011\n",
      "Epoch 29/100\n",
      "20/20 [==============================] - 4s 179ms/step - loss: 6.9363e-04 - val_loss: 7.2858e-04\n",
      "Epoch 30/100\n",
      "20/20 [==============================] - 3s 164ms/step - loss: 6.8397e-04 - val_loss: 7.8955e-04\n",
      "Epoch 31/100\n",
      "20/20 [==============================] - 3s 161ms/step - loss: 6.3196e-04 - val_loss: 6.9209e-04\n",
      "Epoch 32/100\n",
      "20/20 [==============================] - 3s 161ms/step - loss: 6.2524e-04 - val_loss: 5.9584e-04\n",
      "Epoch 33/100\n",
      "20/20 [==============================] - 3s 174ms/step - loss: 5.9634e-04 - val_loss: 6.4802e-04\n",
      "Epoch 34/100\n",
      "20/20 [==============================] - 3s 170ms/step - loss: 6.0242e-04 - val_loss: 6.5344e-04\n",
      "Epoch 35/100\n",
      "20/20 [==============================] - 3s 163ms/step - loss: 5.8658e-04 - val_loss: 6.5842e-04\n",
      "Epoch 36/100\n",
      "20/20 [==============================] - 3s 163ms/step - loss: 5.9369e-04 - val_loss: 5.5253e-04\n",
      "Epoch 37/100\n",
      "20/20 [==============================] - 3s 161ms/step - loss: 7.2790e-04 - val_loss: 0.0013\n",
      "Epoch 38/100\n",
      "20/20 [==============================] - 3s 162ms/step - loss: 0.0012 - val_loss: 6.1541e-04\n",
      "Epoch 39/100\n",
      "20/20 [==============================] - 3s 166ms/step - loss: 6.0664e-04 - val_loss: 5.3026e-04\n",
      "Epoch 40/100\n",
      "20/20 [==============================] - 3s 169ms/step - loss: 5.7096e-04 - val_loss: 6.4753e-04\n",
      "Epoch 41/100\n",
      "20/20 [==============================] - 3s 163ms/step - loss: 5.7857e-04 - val_loss: 6.2063e-04\n",
      "Epoch 42/100\n",
      "20/20 [==============================] - 3s 164ms/step - loss: 5.3436e-04 - val_loss: 6.8366e-04\n",
      "Epoch 43/100\n",
      "20/20 [==============================] - 3s 165ms/step - loss: 5.4358e-04 - val_loss: 5.2012e-04\n",
      "Epoch 44/100\n",
      "20/20 [==============================] - 3s 163ms/step - loss: 5.2450e-04 - val_loss: 5.0957e-04\n",
      "Epoch 45/100\n",
      "20/20 [==============================] - 3s 163ms/step - loss: 5.3688e-04 - val_loss: 6.0384e-04\n",
      "Epoch 46/100\n",
      "20/20 [==============================] - 3s 168ms/step - loss: 5.0240e-04 - val_loss: 8.8935e-04\n",
      "Epoch 47/100\n",
      "20/20 [==============================] - 3s 166ms/step - loss: 7.4870e-04 - val_loss: 9.7757e-04\n",
      "Epoch 48/100\n",
      "20/20 [==============================] - 3s 163ms/step - loss: 5.3638e-04 - val_loss: 4.4199e-04\n",
      "Epoch 49/100\n",
      "20/20 [==============================] - 3s 164ms/step - loss: 4.9577e-04 - val_loss: 5.0371e-04\n",
      "Epoch 50/100\n",
      "20/20 [==============================] - 3s 164ms/step - loss: 5.0708e-04 - val_loss: 5.4770e-04\n",
      "Epoch 51/100\n",
      "20/20 [==============================] - 3s 163ms/step - loss: 4.7790e-04 - val_loss: 5.1683e-04\n",
      "Epoch 52/100\n",
      "20/20 [==============================] - 3s 167ms/step - loss: 4.6604e-04 - val_loss: 4.8189e-04\n",
      "Epoch 53/100\n",
      "20/20 [==============================] - 3s 163ms/step - loss: 4.6799e-04 - val_loss: 4.4708e-04\n",
      "Epoch 54/100\n",
      "20/20 [==============================] - 3s 162ms/step - loss: 4.6249e-04 - val_loss: 4.6837e-04\n",
      "Epoch 55/100\n",
      "20/20 [==============================] - 3s 162ms/step - loss: 4.6626e-04 - val_loss: 4.9898e-04\n",
      "Epoch 56/100\n",
      "20/20 [==============================] - 3s 162ms/step - loss: 4.9301e-04 - val_loss: 3.7947e-04\n",
      "Epoch 57/100\n",
      "20/20 [==============================] - 3s 162ms/step - loss: 5.6303e-04 - val_loss: 4.3937e-04\n",
      "Epoch 58/100\n",
      "20/20 [==============================] - 3s 163ms/step - loss: 4.6671e-04 - val_loss: 5.3755e-04\n",
      "Epoch 59/100\n",
      "20/20 [==============================] - 3s 163ms/step - loss: 4.4733e-04 - val_loss: 4.5451e-04\n",
      "Epoch 60/100\n",
      "20/20 [==============================] - 3s 166ms/step - loss: 4.3954e-04 - val_loss: 4.3022e-04\n",
      "Epoch 61/100\n",
      "20/20 [==============================] - 3s 164ms/step - loss: 4.6475e-04 - val_loss: 3.9631e-04\n",
      "Epoch 62/100\n",
      "20/20 [==============================] - 3s 163ms/step - loss: 4.2052e-04 - val_loss: 4.5675e-04\n",
      "Epoch 63/100\n",
      "20/20 [==============================] - 3s 163ms/step - loss: 4.1528e-04 - val_loss: 6.1205e-04\n",
      "Epoch 64/100\n",
      "20/20 [==============================] - 3s 164ms/step - loss: 6.3946e-04 - val_loss: 3.6693e-04\n",
      "Epoch 65/100\n",
      "20/20 [==============================] - 3s 164ms/step - loss: 5.1130e-04 - val_loss: 5.0472e-04\n",
      "Epoch 66/100\n",
      "20/20 [==============================] - 3s 169ms/step - loss: 4.5588e-04 - val_loss: 5.4463e-04\n",
      "Epoch 67/100\n",
      "20/20 [==============================] - 3s 166ms/step - loss: 4.2991e-04 - val_loss: 5.0771e-04\n",
      "Epoch 68/100\n",
      "20/20 [==============================] - 3s 164ms/step - loss: 4.0279e-04 - val_loss: 4.1170e-04\n",
      "Epoch 69/100\n",
      "20/20 [==============================] - 3s 168ms/step - loss: 4.1573e-04 - val_loss: 4.3739e-04\n",
      "Epoch 70/100\n",
      "20/20 [==============================] - 3s 163ms/step - loss: 5.9942e-04 - val_loss: 3.7253e-04\n",
      "Epoch 71/100\n",
      "20/20 [==============================] - 3s 162ms/step - loss: 6.0550e-04 - val_loss: 3.4479e-04\n",
      "Epoch 72/100\n",
      "20/20 [==============================] - 3s 158ms/step - loss: 4.1039e-04 - val_loss: 5.8609e-04\n",
      "Epoch 73/100\n",
      "20/20 [==============================] - 3s 158ms/step - loss: 3.7124e-04 - val_loss: 3.5284e-04\n",
      "Epoch 74/100\n",
      "20/20 [==============================] - 3s 158ms/step - loss: 3.5004e-04 - val_loss: 4.9146e-04\n",
      "Epoch 75/100\n",
      "20/20 [==============================] - 3s 158ms/step - loss: 4.4773e-04 - val_loss: 3.4699e-04\n",
      "Epoch 76/100\n"
     ]
    },
    {
     "name": "stdout",
     "output_type": "stream",
     "text": [
      "20/20 [==============================] - 3s 159ms/step - loss: 3.3852e-04 - val_loss: 3.6219e-04\n",
      "Epoch 77/100\n",
      "20/20 [==============================] - 3s 160ms/step - loss: 3.2362e-04 - val_loss: 3.2353e-04\n",
      "Epoch 78/100\n",
      "20/20 [==============================] - 3s 159ms/step - loss: 4.0445e-04 - val_loss: 3.8137e-04\n",
      "Epoch 79/100\n",
      "20/20 [==============================] - 3s 158ms/step - loss: 3.7271e-04 - val_loss: 3.0717e-04\n",
      "Epoch 80/100\n",
      "20/20 [==============================] - 3s 160ms/step - loss: 4.0221e-04 - val_loss: 3.8246e-04\n",
      "Epoch 81/100\n",
      "20/20 [==============================] - 3s 158ms/step - loss: 3.3335e-04 - val_loss: 3.4076e-04\n",
      "Epoch 82/100\n",
      "20/20 [==============================] - 3s 159ms/step - loss: 3.2624e-04 - val_loss: 3.2860e-04\n",
      "Epoch 83/100\n",
      "20/20 [==============================] - 3s 171ms/step - loss: 5.4669e-04 - val_loss: 4.0467e-04\n",
      "Epoch 84/100\n",
      "20/20 [==============================] - 3s 163ms/step - loss: 3.2303e-04 - val_loss: 3.0161e-04\n",
      "Epoch 85/100\n",
      "20/20 [==============================] - 3s 160ms/step - loss: 3.0161e-04 - val_loss: 3.0842e-04\n",
      "Epoch 86/100\n",
      "20/20 [==============================] - 3s 159ms/step - loss: 2.8771e-04 - val_loss: 3.1228e-04\n",
      "Epoch 87/100\n",
      "20/20 [==============================] - 3s 159ms/step - loss: 2.9842e-04 - val_loss: 3.8884e-04\n",
      "Epoch 88/100\n",
      "20/20 [==============================] - 3s 159ms/step - loss: 2.9881e-04 - val_loss: 2.5532e-04\n",
      "Epoch 89/100\n",
      "20/20 [==============================] - 3s 161ms/step - loss: 2.8426e-04 - val_loss: 2.6857e-04\n",
      "Epoch 90/100\n",
      "20/20 [==============================] - 3s 158ms/step - loss: 2.7591e-04 - val_loss: 3.9977e-04\n",
      "Epoch 91/100\n",
      "20/20 [==============================] - 3s 159ms/step - loss: 3.3149e-04 - val_loss: 4.4988e-04\n",
      "Epoch 92/100\n",
      "20/20 [==============================] - 3s 159ms/step - loss: 2.7686e-04 - val_loss: 2.7126e-04\n",
      "Epoch 93/100\n",
      "20/20 [==============================] - 3s 160ms/step - loss: 2.9136e-04 - val_loss: 3.9696e-04\n",
      "Epoch 94/100\n",
      "20/20 [==============================] - 3s 160ms/step - loss: 2.6894e-04 - val_loss: 3.0883e-04\n",
      "Epoch 95/100\n",
      "20/20 [==============================] - 3s 161ms/step - loss: 2.6710e-04 - val_loss: 2.4029e-04\n",
      "Epoch 96/100\n",
      "20/20 [==============================] - 3s 159ms/step - loss: 2.9812e-04 - val_loss: 3.3861e-04\n",
      "Epoch 97/100\n",
      "20/20 [==============================] - 3s 159ms/step - loss: 3.4320e-04 - val_loss: 2.4914e-04\n",
      "Epoch 98/100\n",
      "20/20 [==============================] - 3s 160ms/step - loss: 3.1627e-04 - val_loss: 2.4760e-04\n",
      "Epoch 99/100\n",
      "20/20 [==============================] - 3s 161ms/step - loss: 2.5896e-04 - val_loss: 2.9426e-04\n",
      "Epoch 100/100\n",
      "20/20 [==============================] - 3s 160ms/step - loss: 2.5721e-04 - val_loss: 2.2484e-04\n"
     ]
    },
    {
     "data": {
      "text/plain": [
       "<keras.callbacks.History at 0x1e4f3e9ae30>"
      ]
     },
     "execution_count": 24,
     "metadata": {},
     "output_type": "execute_result"
    }
   ],
   "source": [
    "model.fit(X_train,y_train,validation_data=(X_test,y_test),epochs=100,batch_size=64,verbose=1)"
   ]
  },
  {
   "cell_type": "code",
   "execution_count": 25,
   "id": "4fc4414f",
   "metadata": {},
   "outputs": [],
   "source": [
    "import tensorflow as tf"
   ]
  },
  {
   "cell_type": "code",
   "execution_count": 26,
   "id": "433d2b09",
   "metadata": {},
   "outputs": [
    {
     "name": "stdout",
     "output_type": "stream",
     "text": [
      "39/39 [==============================] - 2s 30ms/step\n",
      "20/20 [==============================] - 1s 31ms/step\n"
     ]
    }
   ],
   "source": [
    "train_predict = model.predict(X_train)\n",
    "test_predict = model.predict(X_test)"
   ]
  },
  {
   "cell_type": "code",
   "execution_count": 27,
   "id": "3b0a1d80",
   "metadata": {},
   "outputs": [],
   "source": [
    "## Transform to original form\n",
    "train_predict = scaler.inverse_transform(train_predict)\n",
    "test_predict = scaler.inverse_transform(test_predict)"
   ]
  },
  {
   "cell_type": "code",
   "execution_count": 28,
   "id": "eccfe230",
   "metadata": {},
   "outputs": [
    {
     "data": {
      "text/plain": [
       "165.71109394086383"
      ]
     },
     "execution_count": 28,
     "metadata": {},
     "output_type": "execute_result"
    }
   ],
   "source": [
    "import math\n",
    "from sklearn.metrics import mean_squared_error\n",
    "\n",
    "math.sqrt(mean_squared_error(y_train, train_predict))"
   ]
  },
  {
   "cell_type": "code",
   "execution_count": 29,
   "id": "a1c42e74",
   "metadata": {},
   "outputs": [
    {
     "data": {
      "text/plain": [
       "115.80714922311763"
      ]
     },
     "execution_count": 29,
     "metadata": {},
     "output_type": "execute_result"
    }
   ],
   "source": [
    "math.sqrt(mean_squared_error(y_test, test_predict))"
   ]
  },
  {
   "cell_type": "code",
   "execution_count": 30,
   "id": "5b059e64",
   "metadata": {},
   "outputs": [
    {
     "data": {
      "image/png": "[encoded data removed]",
      "text/plain": [
       "<Figure size 432x288 with 1 Axes>"
      ]
     },
     "metadata": {
      "needs_background": "light"
     },
     "output_type": "display_data"
    }
   ],
   "source": [
    "### Plotting \n",
    "# shift train predictions for plotting\n",
    "look_back=100\n",
    "trainPredictPlot = np.empty_like(df1)\n",
    "trainPredictPlot[:, :] = np.nan\n",
    "trainPredictPlot[look_back:len(train_predict)+look_back, :] = train_predict\n",
    "# shift test predictions for plotting\n",
    "testPredictPlot = np.empty_like(df1)\n",
    "testPredictPlot[:, :] = np.nan\n",
    "testPredictPlot[len(train_predict)+(look_back*2)+1:len(df1)-1, :] = test_predict\n",
    "# plot baseline and predictions\n",
    "plt.plot(scaler.inverse_transform(df1), label='Train Data')\n",
    "plt.plot(trainPredictPlot, label='Train Predict')\n",
    "plt.plot(testPredictPlot, label='Test Predict')\n",
    "legend = plt.legend();\n",
    "plt.show()"
   ]
  }
 ],
 "metadata": {
  "kernelspec": {
   "display_name": "Python 3 (ipykernel)",
   "language": "python",
   "name": "python3"
  },
  "language_info": {
   "codemirror_mode": {
    "name": "ipython",
    "version": 3
   },
   "file_extension": ".py",
   "mimetype": "text/x-python",
   "name": "python",
   "nbconvert_exporter": "python",
   "pygments_lexer": "ipython3",
   "version": "3.10.5"
  }
 },
 "nbformat": 4,
 "nbformat_minor": 5
}
